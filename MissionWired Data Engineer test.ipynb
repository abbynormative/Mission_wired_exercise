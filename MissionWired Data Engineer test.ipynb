{
 "cells": [
  {
   "cell_type": "code",
   "execution_count": 492,
   "metadata": {},
   "outputs": [],
   "source": [
    "import pandas as pd\n",
    "const_info = pd.read_csv('cons.csv') "
   ]
  },
  {
   "cell_type": "code",
   "execution_count": 493,
   "metadata": {},
   "outputs": [],
   "source": [
    "const_email = pd.read_csv('cons_email.csv') "
   ]
  },
  {
   "cell_type": "code",
   "execution_count": 494,
   "metadata": {},
   "outputs": [],
   "source": [
    "# remove rows without a primary email\n",
    "const_email = const_email.loc[const_email['is_primary'] == 1]"
   ]
  },
  {
   "cell_type": "code",
   "execution_count": 495,
   "metadata": {},
   "outputs": [],
   "source": [
    "const_subs = pd.read_csv('cons_email_chapter_subscription.csv')"
   ]
  },
  {
   "cell_type": "code",
   "execution_count": 496,
   "metadata": {},
   "outputs": [],
   "source": [
    "# remove irrelevant subs statuses\n",
    "const_subs = const_subs.loc[const_subs['chapter_id'] == 1]"
   ]
  },
  {
   "cell_type": "code",
   "execution_count": 497,
   "metadata": {},
   "outputs": [],
   "source": [
    "# cutting down dataframes to only needed columns\n",
    "const_subs = const_subs[['cons_email_id','isunsub']]\n",
    "const_info = const_info[['cons_id','source']]\n",
    "const_email = const_email[['cons_id','cons_email_id', 'email', 'create_dt','modified_dt']]"
   ]
  },
  {
   "cell_type": "code",
   "execution_count": 498,
   "metadata": {},
   "outputs": [
    {
     "data": {
      "text/plain": [
       "275484"
      ]
     },
     "execution_count": 498,
     "metadata": {},
     "output_type": "execute_result"
    }
   ],
   "source": [
    "len(const_subs)"
   ]
  },
  {
   "cell_type": "code",
   "execution_count": 499,
   "metadata": {},
   "outputs": [
    {
     "data": {
      "text/plain": [
       "700000"
      ]
     },
     "execution_count": 499,
     "metadata": {},
     "output_type": "execute_result"
    }
   ],
   "source": [
    "len(const_info)"
   ]
  },
  {
   "cell_type": "code",
   "execution_count": 500,
   "metadata": {},
   "outputs": [
    {
     "data": {
      "text/plain": [
       "605639"
      ]
     },
     "execution_count": 500,
     "metadata": {},
     "output_type": "execute_result"
    }
   ],
   "source": [
    "len(const_email)"
   ]
  },
  {
   "cell_type": "code",
   "execution_count": 501,
   "metadata": {},
   "outputs": [],
   "source": [
    "# right join because only want rows with primary email\n",
    "const_info_email = const_info.merge(const_email,how='right', \n",
    "                            left_on=['cons_id'], right_on=['cons_id'])"
   ]
  },
  {
   "cell_type": "code",
   "execution_count": 502,
   "metadata": {},
   "outputs": [],
   "source": [
    "# outer join because assumed subscribed even if there is no email\n",
    "const_info_email_subs = const_info_email.merge(const_subs,how='outer', \n",
    "                            left_on=['cons_email_id'], right_on=['cons_email_id'])\n"
   ]
  },
  {
   "cell_type": "code",
   "execution_count": 503,
   "metadata": {},
   "outputs": [
    {
     "data": {
      "text/plain": [
       "707133"
      ]
     },
     "execution_count": 503,
     "metadata": {},
     "output_type": "execute_result"
    }
   ],
   "source": [
    "len(const_info_email_subs)"
   ]
  },
  {
   "cell_type": "code",
   "execution_count": 504,
   "metadata": {},
   "outputs": [
    {
     "data": {
      "text/plain": [
       "cons_id          101494\n",
       "source           404193\n",
       "cons_email_id         0\n",
       "email            101494\n",
       "create_dt        101494\n",
       "modified_dt      101494\n",
       "isunsub          431649\n",
       "dtype: int64"
      ]
     },
     "execution_count": 504,
     "metadata": {},
     "output_type": "execute_result"
    }
   ],
   "source": [
    "const_info_email_subs.isnull().sum()\n",
    "# quick check of data looks ok - there are only 275484 valid values for isunsub. 707133 - 275484 = 431649"
   ]
  },
  {
   "cell_type": "code",
   "execution_count": 505,
   "metadata": {},
   "outputs": [
    {
     "data": {
      "text/plain": [
       "True"
      ]
     },
     "execution_count": 505,
     "metadata": {},
     "output_type": "execute_result"
    }
   ],
   "source": [
    "# some final sanity checking of data\n",
    "# email duplicates + 1 should equal NaNs\n",
    "(const_info_email_subs['email'].duplicated().sum() + 1) == const_info_email_subs['email'].isnull().sum()"
   ]
  },
  {
   "cell_type": "code",
   "execution_count": 507,
   "metadata": {},
   "outputs": [
    {
     "data": {
      "text/html": [
       "<div>\n",
       "<style scoped>\n",
       "    .dataframe tbody tr th:only-of-type {\n",
       "        vertical-align: middle;\n",
       "    }\n",
       "\n",
       "    .dataframe tbody tr th {\n",
       "        vertical-align: top;\n",
       "    }\n",
       "\n",
       "    .dataframe thead th {\n",
       "        text-align: right;\n",
       "    }\n",
       "</style>\n",
       "<table border=\"1\" class=\"dataframe\">\n",
       "  <thead>\n",
       "    <tr style=\"text-align: right;\">\n",
       "      <th></th>\n",
       "      <th>cons_id</th>\n",
       "      <th>source</th>\n",
       "      <th>cons_email_id</th>\n",
       "      <th>email</th>\n",
       "      <th>create_dt</th>\n",
       "      <th>modified_dt</th>\n",
       "      <th>isunsub</th>\n",
       "    </tr>\n",
       "  </thead>\n",
       "  <tbody>\n",
       "    <tr>\n",
       "      <th>0</th>\n",
       "      <td>1.0</td>\n",
       "      <td>google</td>\n",
       "      <td>546912</td>\n",
       "      <td>daniel72@hudson.com</td>\n",
       "      <td>1982-11-26 14:01:20</td>\n",
       "      <td>2008-05-31 02:30:35</td>\n",
       "      <td>NaN</td>\n",
       "    </tr>\n",
       "    <tr>\n",
       "      <th>1</th>\n",
       "      <td>2.0</td>\n",
       "      <td>facebook</td>\n",
       "      <td>415587</td>\n",
       "      <td>caustin@spears-carson.com</td>\n",
       "      <td>1987-01-23 13:51:26</td>\n",
       "      <td>1982-12-17 18:55:42</td>\n",
       "      <td>1.0</td>\n",
       "    </tr>\n",
       "    <tr>\n",
       "      <th>2</th>\n",
       "      <td>3.0</td>\n",
       "      <td>nan</td>\n",
       "      <td>81594</td>\n",
       "      <td>klewis@ford.biz</td>\n",
       "      <td>2013-05-02 09:20:11</td>\n",
       "      <td>1992-03-24 07:15:14</td>\n",
       "      <td>1.0</td>\n",
       "    </tr>\n",
       "    <tr>\n",
       "      <th>3</th>\n",
       "      <td>5.0</td>\n",
       "      <td>nan</td>\n",
       "      <td>182741</td>\n",
       "      <td>stephenhamilton@gmail.com</td>\n",
       "      <td>1976-05-23 12:23:38</td>\n",
       "      <td>1990-04-01 16:41:29</td>\n",
       "      <td>1.0</td>\n",
       "    </tr>\n",
       "    <tr>\n",
       "      <th>4</th>\n",
       "      <td>6.0</td>\n",
       "      <td>google</td>\n",
       "      <td>246591</td>\n",
       "      <td>henryherring@gmail.com</td>\n",
       "      <td>1989-10-07 13:12:01</td>\n",
       "      <td>1992-06-24 21:50:42</td>\n",
       "      <td>NaN</td>\n",
       "    </tr>\n",
       "  </tbody>\n",
       "</table>\n",
       "</div>"
      ],
      "text/plain": [
       "   cons_id    source  cons_email_id                      email  \\\n",
       "0      1.0    google         546912        daniel72@hudson.com   \n",
       "1      2.0  facebook         415587  caustin@spears-carson.com   \n",
       "2      3.0       nan          81594            klewis@ford.biz   \n",
       "3      5.0       nan         182741  stephenhamilton@gmail.com   \n",
       "4      6.0    google         246591     henryherring@gmail.com   \n",
       "\n",
       "            create_dt         modified_dt  isunsub  \n",
       "0 1982-11-26 14:01:20 2008-05-31 02:30:35      NaN  \n",
       "1 1987-01-23 13:51:26 1982-12-17 18:55:42      1.0  \n",
       "2 2013-05-02 09:20:11 1992-03-24 07:15:14      1.0  \n",
       "3 1976-05-23 12:23:38 1990-04-01 16:41:29      1.0  \n",
       "4 1989-10-07 13:12:01 1992-06-24 21:50:42      NaN  "
      ]
     },
     "execution_count": 507,
     "metadata": {},
     "output_type": "execute_result"
    }
   ],
   "source": [
    "# ensure correct data types\n",
    "const_info_email_subs['email'] = const_info_email_subs['email'].astype(str)\n",
    "const_info_email_subs['source'] = const_info_email_subs['source'].astype(str)\n",
    "const_info_email_subs[['create_dt', 'modified_dt']] = const_info_email_subs[['create_dt', 'modified_dt']].apply(pd.to_datetime)\n",
    "const_info_email_subs.head()"
   ]
  },
  {
   "cell_type": "code",
   "execution_count": 508,
   "metadata": {},
   "outputs": [],
   "source": [
    "# subset final wanted columns and modify names to desired format\n",
    "people = const_info_email_subs[['email','source','isunsub','create_dt', 'modified_dt']]\n",
    "people = people.rename(columns={'source': 'code', 'isunsub': 'is_unsub','create_dt':'created_dt','modified_dt':'updated_dt'})"
   ]
  },
  {
   "cell_type": "code",
   "execution_count": 509,
   "metadata": {},
   "outputs": [],
   "source": [
    "people = people.sort_values(by=['email'])"
   ]
  },
  {
   "cell_type": "code",
   "execution_count": 510,
   "metadata": {},
   "outputs": [],
   "source": [
    "# save people as csv \n",
    "people.to_csv('people.csv',index=False)"
   ]
  },
  {
   "cell_type": "code",
   "execution_count": 511,
   "metadata": {},
   "outputs": [],
   "source": [
    "# create “acquisition_facts” file with date of acquisition and number of acquisitions on the date\n",
    "acquisition_facts = people[['created_dt']]\n",
    "acquisition_facts = acquisition_facts.rename(columns={'created_dt': 'acquisition_date'})"
   ]
  },
  {
   "cell_type": "code",
   "execution_count": 512,
   "metadata": {},
   "outputs": [],
   "source": [
    "# remove time from datetime\n",
    "acquisition_facts['acquisition_date'] = pd.to_datetime(acquisition_facts['acquisition_date']).dt.date"
   ]
  },
  {
   "cell_type": "code",
   "execution_count": 513,
   "metadata": {},
   "outputs": [
    {
     "data": {
      "text/html": [
       "<div>\n",
       "<style scoped>\n",
       "    .dataframe tbody tr th:only-of-type {\n",
       "        vertical-align: middle;\n",
       "    }\n",
       "\n",
       "    .dataframe tbody tr th {\n",
       "        vertical-align: top;\n",
       "    }\n",
       "\n",
       "    .dataframe thead th {\n",
       "        text-align: right;\n",
       "    }\n",
       "</style>\n",
       "<table border=\"1\" class=\"dataframe\">\n",
       "  <thead>\n",
       "    <tr style=\"text-align: right;\">\n",
       "      <th></th>\n",
       "      <th>acquisition_date</th>\n",
       "      <th>acquisitions</th>\n",
       "    </tr>\n",
       "  </thead>\n",
       "  <tbody>\n",
       "    <tr>\n",
       "      <th>0</th>\n",
       "      <td>1970-01-01</td>\n",
       "      <td>45</td>\n",
       "    </tr>\n",
       "    <tr>\n",
       "      <th>1</th>\n",
       "      <td>1970-01-02</td>\n",
       "      <td>29</td>\n",
       "    </tr>\n",
       "    <tr>\n",
       "      <th>2</th>\n",
       "      <td>1970-01-03</td>\n",
       "      <td>26</td>\n",
       "    </tr>\n",
       "    <tr>\n",
       "      <th>3</th>\n",
       "      <td>1970-01-04</td>\n",
       "      <td>31</td>\n",
       "    </tr>\n",
       "    <tr>\n",
       "      <th>4</th>\n",
       "      <td>1970-01-05</td>\n",
       "      <td>31</td>\n",
       "    </tr>\n",
       "    <tr>\n",
       "      <th>...</th>\n",
       "      <td>...</td>\n",
       "      <td>...</td>\n",
       "    </tr>\n",
       "    <tr>\n",
       "      <th>18440</th>\n",
       "      <td>2020-06-27</td>\n",
       "      <td>39</td>\n",
       "    </tr>\n",
       "    <tr>\n",
       "      <th>18441</th>\n",
       "      <td>2020-06-28</td>\n",
       "      <td>27</td>\n",
       "    </tr>\n",
       "    <tr>\n",
       "      <th>18442</th>\n",
       "      <td>2020-06-29</td>\n",
       "      <td>40</td>\n",
       "    </tr>\n",
       "    <tr>\n",
       "      <th>18443</th>\n",
       "      <td>2020-06-30</td>\n",
       "      <td>31</td>\n",
       "    </tr>\n",
       "    <tr>\n",
       "      <th>18444</th>\n",
       "      <td>2020-07-01</td>\n",
       "      <td>22</td>\n",
       "    </tr>\n",
       "  </tbody>\n",
       "</table>\n",
       "<p>18445 rows × 2 columns</p>\n",
       "</div>"
      ],
      "text/plain": [
       "      acquisition_date  acquisitions\n",
       "0           1970-01-01            45\n",
       "1           1970-01-02            29\n",
       "2           1970-01-03            26\n",
       "3           1970-01-04            31\n",
       "4           1970-01-05            31\n",
       "...                ...           ...\n",
       "18440       2020-06-27            39\n",
       "18441       2020-06-28            27\n",
       "18442       2020-06-29            40\n",
       "18443       2020-06-30            31\n",
       "18444       2020-07-01            22\n",
       "\n",
       "[18445 rows x 2 columns]"
      ]
     },
     "execution_count": 513,
     "metadata": {},
     "output_type": "execute_result"
    }
   ],
   "source": [
    "# use group by and size to find number of acquisitions per date\n",
    "acquisition_facts = acquisition_facts.groupby(['acquisition_date']).size().reset_index(name='acquisitions')"
   ]
  },
  {
   "cell_type": "code",
   "execution_count": 514,
   "metadata": {},
   "outputs": [
    {
     "data": {
      "text/plain": [
       "True"
      ]
     },
     "execution_count": 514,
     "metadata": {},
     "output_type": "execute_result"
    }
   ],
   "source": [
    "# sanity check of results\n",
    "acquisition_facts.acquisitions.sum() == (len(people) - people.updated_dt.isnull().sum())"
   ]
  },
  {
   "cell_type": "code",
   "execution_count": 515,
   "metadata": {},
   "outputs": [],
   "source": [
    "# save as csv \n",
    "acquisition_facts.to_csv('acquisition_facts.csv',index=False)"
   ]
  }
 ],
 "metadata": {
  "kernelspec": {
   "display_name": "Python 3",
   "language": "python",
   "name": "python3"
  },
  "language_info": {
   "codemirror_mode": {
    "name": "ipython",
    "version": 3
   },
   "file_extension": ".py",
   "mimetype": "text/x-python",
   "name": "python",
   "nbconvert_exporter": "python",
   "pygments_lexer": "ipython3",
   "version": "3.8.1"
  }
 },
 "nbformat": 4,
 "nbformat_minor": 4
}
